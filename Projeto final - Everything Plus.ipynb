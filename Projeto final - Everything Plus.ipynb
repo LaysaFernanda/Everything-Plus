{
 "cells": [
  {
   "cell_type": "markdown",
   "metadata": {},
   "source": [
    "# Perfil dos consumidores do ecommerce da Everything Plus"
   ]
  },
  {
   "cell_type": "markdown",
   "metadata": {},
   "source": [
    "# Sumário\n",
    "* [1. Introdução](#intro)\n",
    "* [2. Inicialização](#inicio)\n",
    "* [3. Carregando dados](#carregamento)\n",
    "* [4. Pré processamento de dados](#data_processing)\n",
    "    * [4.1 Estudando tipos de dados](#tipos)\n",
    "    * [4.2 Estudando dados duplicados](#duplicados)\n",
    "    * [4.3 Identificando outliers](#outliers)\n",
    "    * [4.4 Enriquecendo os dados](#enriquecendo)\n",
    "* [5. Análise exploratória dos dados](#data_analysis)\n",
    "* [6. Segmentação dos dados](#segmentação)\n",
    "* [7. Formando e testando hipóteses](#hipóteses)\n",
    "* [8. Apresentação](#apresentação)\n",
    "* [9. Conclusão](#conclusão)"
   ]
  },
  {
   "cell_type": "markdown",
   "metadata": {},
   "source": [
    "## Introdução"
   ]
  },
  {
   "cell_type": "markdown",
   "metadata": {},
   "source": [
    "Minha tarefa é identificar o perfil dos consumidores do ecommerce da Everything Plus, uma loja online que vende utensílios domésticos, para desenvolver ofertas mais personalizadas para diferentes usuários."
   ]
  },
  {
   "cell_type": "markdown",
   "metadata": {},
   "source": [
    "## Inicialização"
   ]
  },
  {
   "cell_type": "code",
   "execution_count": 2,
   "metadata": {},
   "outputs": [],
   "source": [
    "import pandas as pd\n",
    "import matplotlib.pyplot as plt\n",
    "import seaborn as sns\n",
    "import numpy as np\n",
    "from sklearn.preprocessing import StandardScaler\n",
    "from sklearn.cluster import KMeans\n",
    "from scipy.cluster.hierarchy import dendrogram, linkage\n",
    "from math import sqrt"
   ]
  },
  {
   "cell_type": "markdown",
   "metadata": {},
   "source": [
    "## Carregando dados"
   ]
  },
  {
   "cell_type": "code",
   "execution_count": 3,
   "metadata": {
    "scrolled": true
   },
   "outputs": [],
   "source": [
    "df = pd.read_csv(r'/datasets/ecommerce_dataset_us.csv', delimiter='\\t')"
   ]
  },
  {
   "cell_type": "markdown",
   "metadata": {},
   "source": [
    "## Pré processamento de dados"
   ]
  },
  {
   "cell_type": "markdown",
   "metadata": {},
   "source": [
    "- `InvoiceNo` — identificador de pedido\n",
    "- `StockCode` — identificador de item\n",
    "- `Description` — nome de item\n",
    "- `Quantity` - quantidade de itens\n",
    "- `InvoiceDate` — data do pedido\n",
    "- `UnitPrice` — preço por item\n",
    "- `CustomerID` - identificador do cliente"
   ]
  },
  {
   "cell_type": "code",
   "execution_count": 4,
   "metadata": {
    "scrolled": false
   },
   "outputs": [
    {
     "data": {
      "text/html": [
       "<div>\n",
       "<style scoped>\n",
       "    .dataframe tbody tr th:only-of-type {\n",
       "        vertical-align: middle;\n",
       "    }\n",
       "\n",
       "    .dataframe tbody tr th {\n",
       "        vertical-align: top;\n",
       "    }\n",
       "\n",
       "    .dataframe thead th {\n",
       "        text-align: right;\n",
       "    }\n",
       "</style>\n",
       "<table border=\"1\" class=\"dataframe\">\n",
       "  <thead>\n",
       "    <tr style=\"text-align: right;\">\n",
       "      <th></th>\n",
       "      <th>InvoiceNo</th>\n",
       "      <th>StockCode</th>\n",
       "      <th>Description</th>\n",
       "      <th>Quantity</th>\n",
       "      <th>InvoiceDate</th>\n",
       "      <th>UnitPrice</th>\n",
       "      <th>CustomerID</th>\n",
       "    </tr>\n",
       "  </thead>\n",
       "  <tbody>\n",
       "    <tr>\n",
       "      <th>0</th>\n",
       "      <td>536365</td>\n",
       "      <td>85123A</td>\n",
       "      <td>WHITE HANGING HEART T-LIGHT HOLDER</td>\n",
       "      <td>6</td>\n",
       "      <td>11/29/2018 08:26</td>\n",
       "      <td>2.55</td>\n",
       "      <td>17850.0</td>\n",
       "    </tr>\n",
       "    <tr>\n",
       "      <th>1</th>\n",
       "      <td>536365</td>\n",
       "      <td>71053</td>\n",
       "      <td>WHITE METAL LANTERN</td>\n",
       "      <td>6</td>\n",
       "      <td>11/29/2018 08:26</td>\n",
       "      <td>3.39</td>\n",
       "      <td>17850.0</td>\n",
       "    </tr>\n",
       "    <tr>\n",
       "      <th>2</th>\n",
       "      <td>536365</td>\n",
       "      <td>84406B</td>\n",
       "      <td>CREAM CUPID HEARTS COAT HANGER</td>\n",
       "      <td>8</td>\n",
       "      <td>11/29/2018 08:26</td>\n",
       "      <td>2.75</td>\n",
       "      <td>17850.0</td>\n",
       "    </tr>\n",
       "    <tr>\n",
       "      <th>3</th>\n",
       "      <td>536365</td>\n",
       "      <td>84029G</td>\n",
       "      <td>KNITTED UNION FLAG HOT WATER BOTTLE</td>\n",
       "      <td>6</td>\n",
       "      <td>11/29/2018 08:26</td>\n",
       "      <td>3.39</td>\n",
       "      <td>17850.0</td>\n",
       "    </tr>\n",
       "    <tr>\n",
       "      <th>4</th>\n",
       "      <td>536365</td>\n",
       "      <td>84029E</td>\n",
       "      <td>RED WOOLLY HOTTIE WHITE HEART.</td>\n",
       "      <td>6</td>\n",
       "      <td>11/29/2018 08:26</td>\n",
       "      <td>3.39</td>\n",
       "      <td>17850.0</td>\n",
       "    </tr>\n",
       "    <tr>\n",
       "      <th>5</th>\n",
       "      <td>536365</td>\n",
       "      <td>22752</td>\n",
       "      <td>SET 7 BABUSHKA NESTING BOXES</td>\n",
       "      <td>2</td>\n",
       "      <td>11/29/2018 08:26</td>\n",
       "      <td>7.65</td>\n",
       "      <td>17850.0</td>\n",
       "    </tr>\n",
       "    <tr>\n",
       "      <th>6</th>\n",
       "      <td>536365</td>\n",
       "      <td>21730</td>\n",
       "      <td>GLASS STAR FROSTED T-LIGHT HOLDER</td>\n",
       "      <td>6</td>\n",
       "      <td>11/29/2018 08:26</td>\n",
       "      <td>4.25</td>\n",
       "      <td>17850.0</td>\n",
       "    </tr>\n",
       "    <tr>\n",
       "      <th>7</th>\n",
       "      <td>536366</td>\n",
       "      <td>22633</td>\n",
       "      <td>HAND WARMER UNION JACK</td>\n",
       "      <td>6</td>\n",
       "      <td>11/29/2018 08:28</td>\n",
       "      <td>1.85</td>\n",
       "      <td>17850.0</td>\n",
       "    </tr>\n",
       "    <tr>\n",
       "      <th>8</th>\n",
       "      <td>536366</td>\n",
       "      <td>22632</td>\n",
       "      <td>HAND WARMER RED POLKA DOT</td>\n",
       "      <td>6</td>\n",
       "      <td>11/29/2018 08:28</td>\n",
       "      <td>1.85</td>\n",
       "      <td>17850.0</td>\n",
       "    </tr>\n",
       "    <tr>\n",
       "      <th>9</th>\n",
       "      <td>536367</td>\n",
       "      <td>84879</td>\n",
       "      <td>ASSORTED COLOUR BIRD ORNAMENT</td>\n",
       "      <td>32</td>\n",
       "      <td>11/29/2018 08:34</td>\n",
       "      <td>1.69</td>\n",
       "      <td>13047.0</td>\n",
       "    </tr>\n",
       "  </tbody>\n",
       "</table>\n",
       "</div>"
      ],
      "text/plain": [
       "  InvoiceNo StockCode                          Description  Quantity  \\\n",
       "0    536365    85123A   WHITE HANGING HEART T-LIGHT HOLDER         6   \n",
       "1    536365     71053                  WHITE METAL LANTERN         6   \n",
       "2    536365    84406B       CREAM CUPID HEARTS COAT HANGER         8   \n",
       "3    536365    84029G  KNITTED UNION FLAG HOT WATER BOTTLE         6   \n",
       "4    536365    84029E       RED WOOLLY HOTTIE WHITE HEART.         6   \n",
       "5    536365     22752         SET 7 BABUSHKA NESTING BOXES         2   \n",
       "6    536365     21730    GLASS STAR FROSTED T-LIGHT HOLDER         6   \n",
       "7    536366     22633               HAND WARMER UNION JACK         6   \n",
       "8    536366     22632            HAND WARMER RED POLKA DOT         6   \n",
       "9    536367     84879        ASSORTED COLOUR BIRD ORNAMENT        32   \n",
       "\n",
       "        InvoiceDate  UnitPrice  CustomerID  \n",
       "0  11/29/2018 08:26       2.55     17850.0  \n",
       "1  11/29/2018 08:26       3.39     17850.0  \n",
       "2  11/29/2018 08:26       2.75     17850.0  \n",
       "3  11/29/2018 08:26       3.39     17850.0  \n",
       "4  11/29/2018 08:26       3.39     17850.0  \n",
       "5  11/29/2018 08:26       7.65     17850.0  \n",
       "6  11/29/2018 08:26       4.25     17850.0  \n",
       "7  11/29/2018 08:28       1.85     17850.0  \n",
       "8  11/29/2018 08:28       1.85     17850.0  \n",
       "9  11/29/2018 08:34       1.69     13047.0  "
      ]
     },
     "execution_count": 4,
     "metadata": {},
     "output_type": "execute_result"
    }
   ],
   "source": [
    "df.head(10)"
   ]
  },
  {
   "cell_type": "markdown",
   "metadata": {},
   "source": [
    "Aparentemente está tudo ok."
   ]
  },
  {
   "cell_type": "code",
   "execution_count": 5,
   "metadata": {
    "scrolled": false
   },
   "outputs": [
    {
     "name": "stdout",
     "output_type": "stream",
     "text": [
      "<class 'pandas.core.frame.DataFrame'>\n",
      "RangeIndex: 541909 entries, 0 to 541908\n",
      "Data columns (total 7 columns):\n",
      " #   Column       Non-Null Count   Dtype  \n",
      "---  ------       --------------   -----  \n",
      " 0   InvoiceNo    541909 non-null  object \n",
      " 1   StockCode    541909 non-null  object \n",
      " 2   Description  540455 non-null  object \n",
      " 3   Quantity     541909 non-null  int64  \n",
      " 4   InvoiceDate  541909 non-null  object \n",
      " 5   UnitPrice    541909 non-null  float64\n",
      " 6   CustomerID   406829 non-null  float64\n",
      "dtypes: float64(2), int64(1), object(4)\n",
      "memory usage: 28.9+ MB\n"
     ]
    }
   ],
   "source": [
    "df.info()"
   ]
  },
  {
   "cell_type": "markdown",
   "metadata": {},
   "source": [
    "Existem valores ausentes.\n",
    "\n",
    "Temos 541909 linhas e 7 colunas."
   ]
  },
  {
   "cell_type": "code",
   "execution_count": 6,
   "metadata": {},
   "outputs": [
    {
     "data": {
      "text/html": [
       "<div>\n",
       "<style scoped>\n",
       "    .dataframe tbody tr th:only-of-type {\n",
       "        vertical-align: middle;\n",
       "    }\n",
       "\n",
       "    .dataframe tbody tr th {\n",
       "        vertical-align: top;\n",
       "    }\n",
       "\n",
       "    .dataframe thead th {\n",
       "        text-align: right;\n",
       "    }\n",
       "</style>\n",
       "<table border=\"1\" class=\"dataframe\">\n",
       "  <thead>\n",
       "    <tr style=\"text-align: right;\">\n",
       "      <th></th>\n",
       "      <th>Quantity</th>\n",
       "      <th>UnitPrice</th>\n",
       "      <th>CustomerID</th>\n",
       "    </tr>\n",
       "  </thead>\n",
       "  <tbody>\n",
       "    <tr>\n",
       "      <th>count</th>\n",
       "      <td>541909.000000</td>\n",
       "      <td>541909.000000</td>\n",
       "      <td>406829.000000</td>\n",
       "    </tr>\n",
       "    <tr>\n",
       "      <th>mean</th>\n",
       "      <td>9.552250</td>\n",
       "      <td>4.611114</td>\n",
       "      <td>15287.690570</td>\n",
       "    </tr>\n",
       "    <tr>\n",
       "      <th>std</th>\n",
       "      <td>218.081158</td>\n",
       "      <td>96.759853</td>\n",
       "      <td>1713.600303</td>\n",
       "    </tr>\n",
       "    <tr>\n",
       "      <th>min</th>\n",
       "      <td>-80995.000000</td>\n",
       "      <td>-11062.060000</td>\n",
       "      <td>12346.000000</td>\n",
       "    </tr>\n",
       "    <tr>\n",
       "      <th>25%</th>\n",
       "      <td>1.000000</td>\n",
       "      <td>1.250000</td>\n",
       "      <td>13953.000000</td>\n",
       "    </tr>\n",
       "    <tr>\n",
       "      <th>50%</th>\n",
       "      <td>3.000000</td>\n",
       "      <td>2.080000</td>\n",
       "      <td>15152.000000</td>\n",
       "    </tr>\n",
       "    <tr>\n",
       "      <th>75%</th>\n",
       "      <td>10.000000</td>\n",
       "      <td>4.130000</td>\n",
       "      <td>16791.000000</td>\n",
       "    </tr>\n",
       "    <tr>\n",
       "      <th>max</th>\n",
       "      <td>80995.000000</td>\n",
       "      <td>38970.000000</td>\n",
       "      <td>18287.000000</td>\n",
       "    </tr>\n",
       "  </tbody>\n",
       "</table>\n",
       "</div>"
      ],
      "text/plain": [
       "            Quantity      UnitPrice     CustomerID\n",
       "count  541909.000000  541909.000000  406829.000000\n",
       "mean        9.552250       4.611114   15287.690570\n",
       "std       218.081158      96.759853    1713.600303\n",
       "min    -80995.000000  -11062.060000   12346.000000\n",
       "25%         1.000000       1.250000   13953.000000\n",
       "50%         3.000000       2.080000   15152.000000\n",
       "75%        10.000000       4.130000   16791.000000\n",
       "max     80995.000000   38970.000000   18287.000000"
      ]
     },
     "execution_count": 6,
     "metadata": {},
     "output_type": "execute_result"
    }
   ],
   "source": [
    "df.describe()"
   ]
  },
  {
   "cell_type": "markdown",
   "metadata": {},
   "source": [
    "Quanto menor o desvio padrão (std) mais homogêneos são os dados"
   ]
  },
  {
   "cell_type": "code",
   "execution_count": 7,
   "metadata": {},
   "outputs": [
    {
     "data": {
      "text/plain": [
       "5268"
      ]
     },
     "execution_count": 7,
     "metadata": {},
     "output_type": "execute_result"
    }
   ],
   "source": [
    "df.duplicated().sum()"
   ]
  },
  {
   "cell_type": "markdown",
   "metadata": {},
   "source": [
    "Vou remover as duplicadas abaixo."
   ]
  },
  {
   "cell_type": "markdown",
   "metadata": {},
   "source": [
    "Possui 541909 linhas e 7 colunas.\n",
    "\n",
    "- Possui dados ausentes nas colunas `Description` e `CustomerID`\n",
    "- Possui 5268 dados duplicados\n",
    "- O nome das colunas está ok\n",
    "- O tipo da coluna `InvoiceDate` deveria ser do tipo datetime\n",
    "\n",
    "Nas próximas etapas irei tratar os problemas."
   ]
  },
  {
   "cell_type": "markdown",
   "metadata": {},
   "source": [
    "### Estudando tipo de dados"
   ]
  },
  {
   "cell_type": "code",
   "execution_count": 8,
   "metadata": {},
   "outputs": [],
   "source": [
    "# Mudando o tipo da coluna para datetime\n",
    "\n",
    "df['InvoiceDate'] = pd.to_datetime(df['InvoiceDate'])"
   ]
  },
  {
   "cell_type": "code",
   "execution_count": 9,
   "metadata": {},
   "outputs": [
    {
     "name": "stdout",
     "output_type": "stream",
     "text": [
      "<class 'pandas.core.frame.DataFrame'>\n",
      "RangeIndex: 541909 entries, 0 to 541908\n",
      "Data columns (total 7 columns):\n",
      " #   Column       Non-Null Count   Dtype         \n",
      "---  ------       --------------   -----         \n",
      " 0   InvoiceNo    541909 non-null  object        \n",
      " 1   StockCode    541909 non-null  object        \n",
      " 2   Description  540455 non-null  object        \n",
      " 3   Quantity     541909 non-null  int64         \n",
      " 4   InvoiceDate  541909 non-null  datetime64[ns]\n",
      " 5   UnitPrice    541909 non-null  float64       \n",
      " 6   CustomerID   406829 non-null  float64       \n",
      "dtypes: datetime64[ns](1), float64(2), int64(1), object(3)\n",
      "memory usage: 28.9+ MB\n"
     ]
    }
   ],
   "source": [
    "# Conferindo de funcionou\n",
    "\n",
    "df.info()"
   ]
  },
  {
   "cell_type": "markdown",
   "metadata": {},
   "source": [
    "### Estudando dados duplicados"
   ]
  },
  {
   "cell_type": "markdown",
   "metadata": {},
   "source": [
    "É bem provável que as linhas duplicadas sejam um erro de registro no sistema, vou descartá-los."
   ]
  },
  {
   "cell_type": "code",
   "execution_count": 10,
   "metadata": {},
   "outputs": [],
   "source": [
    "# Excluindo duplicatas\n",
    "\n",
    "df=df.drop_duplicates()"
   ]
  },
  {
   "cell_type": "code",
   "execution_count": 11,
   "metadata": {},
   "outputs": [
    {
     "data": {
      "text/plain": [
       "0"
      ]
     },
     "execution_count": 11,
     "metadata": {},
     "output_type": "execute_result"
    }
   ],
   "source": [
    "# Conferindo se funcionou\n",
    "\n",
    "df.duplicated().sum()"
   ]
  },
  {
   "cell_type": "markdown",
   "metadata": {},
   "source": [
    "### Identificando outliers"
   ]
  },
  {
   "cell_type": "markdown",
   "metadata": {},
   "source": [
    "- Quantity"
   ]
  },
  {
   "cell_type": "code",
   "execution_count": 12,
   "metadata": {
    "scrolled": true
   },
   "outputs": [
    {
     "data": {
      "text/plain": [
       "Text(0, 0.5, 'Frequencia')"
      ]
     },
     "execution_count": 12,
     "metadata": {},
     "output_type": "execute_result"
    },
    {
     "data": {
      "image/png": "[encoded data removed]",
      "text/plain": [
       "<Figure size 720x360 with 1 Axes>"
      ]
     },
     "metadata": {
      "needs_background": "light"
     },
     "output_type": "display_data"
    }
   ],
   "source": [
    "# Histograma da quantidade de itens comprados\n",
    "plt.figure (figsize = (10,5))\n",
    "plt.hist(df['Quantity'], bins=10) \n",
    "plt.xlabel('Quantidade')\n",
    "plt.ylabel('Frequencia')"
   ]
  },
  {
   "cell_type": "markdown",
   "metadata": {},
   "source": [
    "Temos pedidos com menos do que 0 itens. Vou excluí-los, pois não existe compras com menos menos que 0 itens."
   ]
  },
  {
   "cell_type": "code",
   "execution_count": 13,
   "metadata": {},
   "outputs": [],
   "source": [
    "df.drop(df[df['Quantity']<=0].index, inplace=True)"
   ]
  },
  {
   "cell_type": "code",
   "execution_count": 14,
   "metadata": {},
   "outputs": [
    {
     "name": "stdout",
     "output_type": "stream",
     "text": [
      "[  1.   4. 100.]\n"
     ]
    }
   ],
   "source": [
    "print(np.percentile(df['Quantity'], [0, 50, 99]))"
   ]
  },
  {
   "cell_type": "code",
   "execution_count": 15,
   "metadata": {},
   "outputs": [],
   "source": [
    "# Apagando quantidades de compra maiores do que 100.\n",
    "df.drop(df[df['Quantity']>100].index, inplace=True)"
   ]
  },
  {
   "cell_type": "code",
   "execution_count": 16,
   "metadata": {
    "scrolled": true
   },
   "outputs": [
    {
     "data": {
      "text/plain": [
       "Text(0, 0.5, 'Frequencia')"
      ]
     },
     "execution_count": 16,
     "metadata": {},
     "output_type": "execute_result"
    },
    {
     "data": {
      "image/png": "[encoded data removed]",
      "text/plain": [
       "<Figure size 720x360 with 1 Axes>"
      ]
     },
     "metadata": {
      "needs_background": "light"
     },
     "output_type": "display_data"
    }
   ],
   "source": [
    "plt.figure (figsize = (10,5))\n",
    "plt.hist(df['Quantity'], bins=50) \n",
    "plt.xlabel('Quantidade')\n",
    "plt.ylabel('Frequencia')"
   ]
  },
  {
   "cell_type": "code",
   "execution_count": 17,
   "metadata": {},
   "outputs": [
    {
     "name": "stdout",
     "output_type": "stream",
     "text": [
      "[20. 25. 72.]\n"
     ]
    }
   ],
   "source": [
    "print(np.percentile(df['Quantity'], [90, 95, 99]))"
   ]
  },
  {
   "cell_type": "markdown",
   "metadata": {},
   "source": [
    "Menos que 10% dos usuários compraram mais que 20 itens, menos que 5% dos usuários fez compraram mais do que 25 itens e menos que 1% compraram mais que 72 itens; portanto vou considerar que pedidos com muitos itens são pedidos com mais de 25 itens."
   ]
  },
  {
   "cell_type": "markdown",
   "metadata": {},
   "source": [
    "- UnitPrice"
   ]
  },
  {
   "cell_type": "code",
   "execution_count": 18,
   "metadata": {
    "scrolled": true
   },
   "outputs": [
    {
     "data": {
      "image/png": "[encoded data removed]",
      "text/plain": [
       "<Figure size 720x360 with 1 Axes>"
      ]
     },
     "metadata": {
      "needs_background": "light"
     },
     "output_type": "display_data"
    }
   ],
   "source": [
    "# Boxplot do preço unitário dos itens\n",
    "plt.figure (figsize = (10,5))\n",
    "boxplot_atipico = sns.boxplot(data=df['UnitPrice'])\n",
    "plt.show()"
   ]
  },
  {
   "cell_type": "markdown",
   "metadata": {},
   "source": [
    "Também vou excluir preços menores que 0, pois não existem compras com valor menor que 0.\n",
    "\n",
    "Ao excluir itens de quantidade negativa posso ter retirado grande parte, mas pode haver algum erro de digitação no preço do produto de alguma compra, pois isso, vamos exluí-lo."
   ]
  },
  {
   "cell_type": "code",
   "execution_count": 19,
   "metadata": {},
   "outputs": [],
   "source": [
    "df.drop(df[df['UnitPrice']<=0].index, inplace=True)"
   ]
  },
  {
   "cell_type": "code",
   "execution_count": 20,
   "metadata": {},
   "outputs": [
    {
     "name": "stdout",
     "output_type": "stream",
     "text": [
      "[1.000e-03 2.100e+00 1.698e+01]\n"
     ]
    }
   ],
   "source": [
    "print(np.percentile(df['UnitPrice'], [0, 50, 99]))"
   ]
  },
  {
   "cell_type": "code",
   "execution_count": 21,
   "metadata": {},
   "outputs": [],
   "source": [
    "# Excluindo preços maiores do que 3000.\n",
    "df.drop(df[df['UnitPrice']>3000].index, inplace=True)"
   ]
  },
  {
   "cell_type": "code",
   "execution_count": 22,
   "metadata": {
    "scrolled": true
   },
   "outputs": [
    {
     "data": {
      "image/png": "[encoded data removed]",
      "text/plain": [
       "<Figure size 720x360 with 1 Axes>"
      ]
     },
     "metadata": {
      "needs_background": "light"
     },
     "output_type": "display_data"
    }
   ],
   "source": [
    "# Boxplot do preço unitário dos itens depois da limpeza\n",
    "plt.figure (figsize = (10,5))\n",
    "sns.boxplot(data=df['UnitPrice'])\n",
    "plt.show()"
   ]
  },
  {
   "cell_type": "markdown",
   "metadata": {},
   "source": [
    "Agora vemos que em comparação com o gráfico anterior, não temos valores atípicos."
   ]
  },
  {
   "cell_type": "markdown",
   "metadata": {},
   "source": [
    "### Enriquecendo os dados"
   ]
  },
  {
   "cell_type": "code",
   "execution_count": 23,
   "metadata": {},
   "outputs": [],
   "source": [
    "# Criando colunas de mês\n",
    "df['Month']=df['InvoiceDate'].dt.month"
   ]
  },
  {
   "cell_type": "code",
   "execution_count": 24,
   "metadata": {},
   "outputs": [],
   "source": [
    "# Criando coluna de Totais\n",
    "df['Total'] = df['UnitPrice'] * df['Quantity']"
   ]
  },
  {
   "cell_type": "code",
   "execution_count": 25,
   "metadata": {
    "scrolled": false
   },
   "outputs": [
    {
     "data": {
      "text/plain": [
       "<AxesSubplot:xlabel='CustomerID', ylabel='Total'>"
      ]
     },
     "execution_count": 25,
     "metadata": {},
     "output_type": "execute_result"
    },
    {
     "data": {
      "image/png": "[encoded data removed]",
      "text/plain": [
       "<Figure size 720x360 with 1 Axes>"
      ]
     },
     "metadata": {
      "needs_background": "light"
     },
     "output_type": "display_data"
    }
   ],
   "source": [
    "plt.figure (figsize = (10,5))\n",
    "sns.scatterplot(data=df, x='CustomerID', y='Total')"
   ]
  },
  {
   "cell_type": "markdown",
   "metadata": {},
   "source": [
    "Vemos que existe um valor atípico no valor total da compra acima de 3500 - vou excluir para não afetar a análise."
   ]
  },
  {
   "cell_type": "code",
   "execution_count": 26,
   "metadata": {},
   "outputs": [],
   "source": [
    "# Excluindo onde o valor total da compra foi aproximadamente 40000\n",
    "df.drop(df[df['Total']>35000].index, inplace=True)"
   ]
  },
  {
   "cell_type": "code",
   "execution_count": 27,
   "metadata": {
    "scrolled": true
   },
   "outputs": [
    {
     "data": {
      "text/plain": [
       "<AxesSubplot:xlabel='CustomerID', ylabel='Total'>"
      ]
     },
     "execution_count": 27,
     "metadata": {},
     "output_type": "execute_result"
    },
    {
     "data": {
      "image/png": "[encoded data removed]",
      "text/plain": [
       "<Figure size 720x360 with 1 Axes>"
      ]
     },
     "metadata": {
      "needs_background": "light"
     },
     "output_type": "display_data"
    }
   ],
   "source": [
    "plt.figure (figsize = (10,5))\n",
    "sns.scatterplot(data=df, x='CustomerID', y='Total')"
   ]
  },
  {
   "cell_type": "markdown",
   "metadata": {},
   "source": [
    "Agora, em comparação com o gráfico anterior, vemos que não existem valores atípicos."
   ]
  },
  {
   "cell_type": "markdown",
   "metadata": {},
   "source": [
    "## Análise exploratória dos dados"
   ]
  },
  {
   "cell_type": "markdown",
   "metadata": {},
   "source": [
    "- Correlação"
   ]
  },
  {
   "cell_type": "code",
   "execution_count": 28,
   "metadata": {},
   "outputs": [
    {
     "data": {
      "text/html": [
       "<div>\n",
       "<style scoped>\n",
       "    .dataframe tbody tr th:only-of-type {\n",
       "        vertical-align: middle;\n",
       "    }\n",
       "\n",
       "    .dataframe tbody tr th {\n",
       "        vertical-align: top;\n",
       "    }\n",
       "\n",
       "    .dataframe thead th {\n",
       "        text-align: right;\n",
       "    }\n",
       "</style>\n",
       "<table border=\"1\" class=\"dataframe\">\n",
       "  <thead>\n",
       "    <tr style=\"text-align: right;\">\n",
       "      <th></th>\n",
       "      <th>Quantity</th>\n",
       "      <th>UnitPrice</th>\n",
       "      <th>CustomerID</th>\n",
       "      <th>Month</th>\n",
       "      <th>Total</th>\n",
       "    </tr>\n",
       "  </thead>\n",
       "  <tbody>\n",
       "    <tr>\n",
       "      <th>Quantity</th>\n",
       "      <td>1.000000</td>\n",
       "      <td>-0.055303</td>\n",
       "      <td>-0.088762</td>\n",
       "      <td>-0.011428</td>\n",
       "      <td>0.480762</td>\n",
       "    </tr>\n",
       "    <tr>\n",
       "      <th>UnitPrice</th>\n",
       "      <td>-0.055303</td>\n",
       "      <td>1.000000</td>\n",
       "      <td>-0.015725</td>\n",
       "      <td>-0.001517</td>\n",
       "      <td>0.585293</td>\n",
       "    </tr>\n",
       "    <tr>\n",
       "      <th>Month</th>\n",
       "      <td>-0.011428</td>\n",
       "      <td>-0.001517</td>\n",
       "      <td>0.027871</td>\n",
       "      <td>1.000000</td>\n",
       "      <td>-0.003880</td>\n",
       "    </tr>\n",
       "    <tr>\n",
       "      <th>Total</th>\n",
       "      <td>0.480762</td>\n",
       "      <td>0.585293</td>\n",
       "      <td>-0.078603</td>\n",
       "      <td>-0.003880</td>\n",
       "      <td>1.000000</td>\n",
       "    </tr>\n",
       "  </tbody>\n",
       "</table>\n",
       "</div>"
      ],
      "text/plain": [
       "           Quantity  UnitPrice  CustomerID     Month     Total\n",
       "Quantity   1.000000  -0.055303   -0.088762 -0.011428  0.480762\n",
       "UnitPrice -0.055303   1.000000   -0.015725 -0.001517  0.585293\n",
       "Month     -0.011428  -0.001517    0.027871  1.000000 -0.003880\n",
       "Total      0.480762   0.585293   -0.078603 -0.003880  1.000000"
      ]
     },
     "execution_count": 28,
     "metadata": {},
     "output_type": "execute_result"
    }
   ],
   "source": [
    "corr = df.corr()\n",
    "corr = corr.drop('CustomerID')\n",
    "corr"
   ]
  },
  {
   "cell_type": "code",
   "execution_count": 29,
   "metadata": {
    "scrolled": false
   },
   "outputs": [
    {
     "data": {
      "image/png": "[encoded data removed]",
      "text/plain": [
       "<Figure size 864x576 with 2 Axes>"
      ]
     },
     "metadata": {
      "needs_background": "light"
     },
     "output_type": "display_data"
    }
   ],
   "source": [
    "plt.figure(figsize=(12,8))\n",
    "sns.heatmap(corr, annot=True, cmap=sns.cm.rocket_r)\n",
    "plt.show()"
   ]
  },
  {
   "cell_type": "markdown",
   "metadata": {},
   "source": [
    "Podemos observar que não temos correlações fortes, apenas o total com a quantidade e o total com o preço são mais fortes, pois a coluna total se originou dessas 2 colunas. "
   ]
  },
  {
   "cell_type": "markdown",
   "metadata": {},
   "source": [
    "- Calculando percentis"
   ]
  },
  {
   "cell_type": "code",
   "execution_count": 30,
   "metadata": {
    "scrolled": false
   },
   "outputs": [
    {
     "name": "stdout",
     "output_type": "stream",
     "text": [
      "[ 7.95  9.95 16.98]\n"
     ]
    }
   ],
   "source": [
    "print(np.percentile(df['UnitPrice'], [90, 95, 99]))"
   ]
  },
  {
   "cell_type": "markdown",
   "metadata": {},
   "source": [
    "Menos que 10% dos usuários gastaram mais que 7.95, menos que 5% dos usuários gastou mais do que 9.95 e menos que 1% gastou mais que 16.98; portanto vou considerar produtos com preços maiores que 9.95 como um produto caro, enquanto produtos com preços menores que 9.95 vou considerar um produto mais barato."
   ]
  },
  {
   "cell_type": "code",
   "execution_count": 31,
   "metadata": {},
   "outputs": [
    {
     "name": "stdout",
     "output_type": "stream",
     "text": [
      "[20. 25. 72.]\n"
     ]
    }
   ],
   "source": [
    "print(np.percentile(df['Quantity'], [90, 95, 99]))"
   ]
  },
  {
   "cell_type": "markdown",
   "metadata": {},
   "source": [
    "Quantidades maiores que 25 vou considerar uma compra com muitos produtos, e menores que 25, compras com poucos produtos."
   ]
  },
  {
   "cell_type": "markdown",
   "metadata": {},
   "source": [
    "## Segmentação dos dados"
   ]
  },
  {
   "cell_type": "markdown",
   "metadata": {},
   "source": [
    "**Segmentando os usuários com base no histórico de compras.**"
   ]
  },
  {
   "cell_type": "markdown",
   "metadata": {},
   "source": [
    "- Padronizando os dados"
   ]
  },
  {
   "cell_type": "code",
   "execution_count": 32,
   "metadata": {},
   "outputs": [],
   "source": [
    "scaler = StandardScaler()"
   ]
  },
  {
   "cell_type": "code",
   "execution_count": 33,
   "metadata": {},
   "outputs": [],
   "source": [
    "X_sc = scaler.fit_transform(df[['Quantity', 'UnitPrice']])\n",
    "df_standard=pd.DataFrame()\n",
    "df_standard['Quantity']=X_sc[:,0]\n",
    "df_standard['UnitPrice']=X_sc[:,1]"
   ]
  },
  {
   "cell_type": "markdown",
   "metadata": {},
   "source": [
    "- Machine learning para dividir os tipos de compras em n números"
   ]
  },
  {
   "cell_type": "code",
   "execution_count": 34,
   "metadata": {},
   "outputs": [],
   "source": [
    "max_clusters = 10\n",
    "kmeans = [KMeans(n_clusters=i) for i in range(1, max_clusters+1)]"
   ]
  },
  {
   "cell_type": "code",
   "execution_count": null,
   "metadata": {},
   "outputs": [],
   "source": [
    "score = [kmeans[i].fit(df_standard).score(df_standard) for i in range(len(kmeans))]"
   ]
  },
  {
   "cell_type": "code",
   "execution_count": null,
   "metadata": {
    "scrolled": true
   },
   "outputs": [],
   "source": [
    "plt.plot(range(1, max_clusters+1), score)\n",
    "plt.title('Método do cotovelo')\n",
    "plt.xlabel('Número de clusters')\n",
    "plt.ylabel('Score')\n",
    "plt.show()"
   ]
  },
  {
   "cell_type": "markdown",
   "metadata": {},
   "source": [
    "O ponto de \"cotovelo\" indica o número ideal de clusters, no caso 3."
   ]
  },
  {
   "cell_type": "code",
   "execution_count": null,
   "metadata": {},
   "outputs": [],
   "source": [
    "kmeans= KMeans(n_clusters=3 , init='k-means++', n_init=10, max_iter=300).fit(df_standard) "
   ]
  },
  {
   "cell_type": "code",
   "execution_count": null,
   "metadata": {},
   "outputs": [],
   "source": [
    "kmeans.fit(df_standard)"
   ]
  },
  {
   "cell_type": "code",
   "execution_count": null,
   "metadata": {},
   "outputs": [],
   "source": [
    "labels = kmeans.fit_predict(X_sc)\n",
    "\n",
    "df['agrupamento'] = labels"
   ]
  },
  {
   "cell_type": "code",
   "execution_count": null,
   "metadata": {},
   "outputs": [],
   "source": [
    "df.groupby(['agrupamento']).mean()"
   ]
  },
  {
   "cell_type": "markdown",
   "metadata": {},
   "source": [
    "Sobre os grupos:\n",
    "\n",
    "- Grupo 0: Este grupo possui uma quantidade de 5.958638 e um preço unitário de 3.648292. Os valores estão abaixo da média, então esse grupo representa clientes com compras de baixa quantidade e baixo valor unitário.\n",
    "\n",
    "- Grupo 1: Este grupo possui uma quantidade de 57 e um preço unitário de 1.549896. A quantidade é significativamente maior do que os outros grupos, sugerindo que este grupo representa clientes com compras de alta quantidade, mas de baixo valor unitário, provavelmente tendem a comprar maiores quantidades de produtos baratos.\n",
    "\n",
    "- Grupo 2: Este grupo possui uma quantidade de 1 e um preço unitário de 989. Este grupo representa clientes com compras de baixa quantidade e altíssimo valor unitário, talvez devido a um valor atípico, sugerindo que este grupo representa clientes com compras de baixa quantidade, mas de alto valor unitário, provavelmente tendem a comprar menores quantidade de produtos caros."
   ]
  },
  {
   "cell_type": "code",
   "execution_count": null,
   "metadata": {
    "scrolled": true
   },
   "outputs": [],
   "source": [
    "df.groupby('agrupamento')['CustomerID'].count()"
   ]
  },
  {
   "cell_type": "code",
   "execution_count": null,
   "metadata": {},
   "outputs": [],
   "source": [
    "df.groupby('agrupamento')['Total'].sum()"
   ]
  },
  {
   "cell_type": "code",
   "execution_count": null,
   "metadata": {
    "scrolled": true
   },
   "outputs": [],
   "source": [
    "df.groupby('agrupamento')['Total'].sum() / df.groupby('agrupamento')['CustomerID'].count()"
   ]
  },
  {
   "cell_type": "markdown",
   "metadata": {},
   "source": [
    "O grupo com maior renda gerada é o 2. Como vemos, é o grupo com menores quantidades e maior renda, portanto a equipe de marketing pode tentar encontrar uma oportunidade em direcionar mais o marketing a compradores de poucos itens com o valor mais elevado, ao invés de compra em atacado, por exemplo. "
   ]
  },
  {
   "cell_type": "markdown",
   "metadata": {},
   "source": [
    "Sobre o mês, o grupo com maior renda é o que aparentemente faz compras no mês 9/10, o que pode significar que os meses finais são os melhores em relação às compras - vamos olhar a distribuição de acordo com o meses."
   ]
  },
  {
   "cell_type": "markdown",
   "metadata": {},
   "source": [
    "- Vamos dar uma olhada na distribuição de acordo com o tempo"
   ]
  },
  {
   "cell_type": "code",
   "execution_count": null,
   "metadata": {},
   "outputs": [],
   "source": [
    "df_grouped = df.groupby('Month')['Quantity'].count().reset_index()"
   ]
  },
  {
   "cell_type": "code",
   "execution_count": null,
   "metadata": {},
   "outputs": [],
   "source": [
    "plt.figure(figsize=(10, 6))\n",
    "\n",
    "sns.barplot(data=df_grouped, x='Month', y='Quantity')\n",
    "plt.xlabel('Mês')\n",
    "plt.ylabel('Quantidade de Compras')\n",
    "plt.title('Distribuição de Compras por Mês')\n",
    "plt.show()"
   ]
  },
  {
   "cell_type": "markdown",
   "metadata": {},
   "source": [
    "Podemos promover determinados tipos de itens em determinadas épocas do ano. Como vemos, os últimos meses do ano são os que mais vendem, então podemos dar mais atenção para itens de eventos de final de ano, como natal, ano novo, Black Friday por exemplo."
   ]
  },
  {
   "cell_type": "markdown",
   "metadata": {},
   "source": [
    "- RFM (Recência-Frequência-Monetização)"
   ]
  },
  {
   "cell_type": "code",
   "execution_count": null,
   "metadata": {},
   "outputs": [],
   "source": [
    "data_ultima_compra = df['InvoiceDate'].max() + pd.DateOffset(days=1)"
   ]
  },
  {
   "cell_type": "code",
   "execution_count": null,
   "metadata": {
    "scrolled": false
   },
   "outputs": [],
   "source": [
    "# Calcular a data mais recente para o cálculo da recência\n",
    "data_atual = pd.to_datetime('2023-10-02')\n",
    "\n",
    "# Calcular Recência\n",
    "df['Recencia'] = (data_ultima_compra - df['InvoiceDate']).dt.days\n",
    "\n",
    "# Calcular Frequência\n",
    "frequencia = df.groupby('CustomerID')['InvoiceNo'].count().reset_index()\n",
    "frequencia.rename(columns={'InvoiceNo': 'Frequencia'}, inplace=True)\n",
    "\n",
    "# Calcular Valor Monetário\n",
    "valor_monetario = df.groupby('CustomerID')['Total'].sum().reset_index()\n",
    "valor_monetario.rename(columns={'TotalValue': 'ValorMonetario'}, inplace=True)\n",
    "\n",
    "# Combinar os resultados em um DataFrame\n",
    "resultado = pd.merge(df[['CustomerID', 'Recencia']], frequencia, on='CustomerID')\n",
    "resultado = pd.merge(resultado, valor_monetario, on='CustomerID')\n",
    "resultado = resultado.drop_duplicates()\n",
    "\n",
    "# Exibir os resultados\n",
    "print(resultado)"
   ]
  },
  {
   "cell_type": "code",
   "execution_count": null,
   "metadata": {},
   "outputs": [],
   "source": [
    "resultado = pd.merge(resultado, df, on='CustomerID')"
   ]
  },
  {
   "cell_type": "code",
   "execution_count": null,
   "metadata": {},
   "outputs": [],
   "source": [
    "resultado.groupby('agrupamento')[['Recencia_x', 'Frequencia', 'Total_x']].mean()"
   ]
  },
  {
   "cell_type": "markdown",
   "metadata": {},
   "source": [
    "- Maior recência: grupo 1\n",
    "- Maior frequência: grupo 2\n",
    "- Maior renda: grupo 2\n",
    "\n",
    "O grupo 1 tem a maior recência , porém baixa frequência e valor monetário baixo. É possível que esse grupo seja de clientes que acabaram de fazer sua primeira compra na loja, então a equipe de marketing vão querer levá-lo em uma elaborada jornada de boas-vindas para garantir que ele aproveite ao máximo seu investimento, que tenha todas as suas perguntas respondidas e que ele aprende um pouco mais sobre a loja no processo.\n",
    "\n",
    "Para o Grupo 2 obtemos um valor monetário maior e frequência também. Muitas vezes os clientes desse grupo gastavam dinheiro na loja e faziam compras, mas já fazia muito tempo que não faziam uma compra. Eles podem querer a partir de seu histórico de compras enviar a eles uma oferta relevante e valiosa para um engajamento repetido - como visto anteriormente, esses clientes compram em pequenas quantidades, mas comrpam rodutos caros."
   ]
  },
  {
   "cell_type": "markdown",
   "metadata": {},
   "source": [
    "## Formando e testando hipóteses"
   ]
  },
  {
   "cell_type": "markdown",
   "metadata": {},
   "source": [
    "1. Hipótese: As vendas aumentam no final do ano (últimos 3 meses) por conta de feriados/férias\n",
    "    - Validação: Criar gráfico de barras de compras por mês"
   ]
  },
  {
   "cell_type": "code",
   "execution_count": null,
   "metadata": {},
   "outputs": [],
   "source": [
    "plt.figure(figsize=(10, 6))\n",
    "\n",
    "sns.barplot(data=df_grouped, x='Month', y='Quantity')\n",
    "plt.xlabel('Mês')\n",
    "plt.ylabel('Quantidade de Compras')\n",
    "plt.title('Distribuição de Compras por Mês')\n",
    "plt.show()"
   ]
  },
  {
   "cell_type": "markdown",
   "metadata": {},
   "source": [
    "Assim como vimos anteriormente, as vendas aumentam significamente nos últimos 3 meses do ano."
   ]
  },
  {
   "cell_type": "markdown",
   "metadata": {},
   "source": [
    "2. Hipótese: A maior parte dos clientes compram em pequenas quantidades.\n",
    "    - Validação: Histograma de Quantity"
   ]
  },
  {
   "cell_type": "code",
   "execution_count": null,
   "metadata": {},
   "outputs": [],
   "source": [
    "plt.figure (figsize = (10,5))\n",
    "plt.hist(df['Quantity'], bins=50) \n",
    "plt.xlabel('Quantidade')\n",
    "plt.ylabel('Frequencia')"
   ]
  },
  {
   "cell_type": "markdown",
   "metadata": {},
   "source": [
    "Como vemos no histograma, existem mais clientes que compram em pequenas quantidades do que clientes que compram em grandes quantidades."
   ]
  },
  {
   "cell_type": "markdown",
   "metadata": {},
   "source": [
    "3.  Hipótese: Os clientes que mais gastam são aqueles que compram em maiores quantidades\n",
    "    - Validação: Olhar correlação entre coluna de Valor Total e Quantity"
   ]
  },
  {
   "cell_type": "code",
   "execution_count": null,
   "metadata": {},
   "outputs": [],
   "source": [
    "plt.figure(figsize=(12,8))\n",
    "sns.heatmap(corr, annot=True, cmap=sns.cm.rocket_r)\n",
    "plt.show()"
   ]
  },
  {
   "cell_type": "markdown",
   "metadata": {},
   "source": [
    "A correlação entre Valor Total e Quantidade é de 0.48, indicando uma correlação média - não necessariamente os clientes que compram em maiores quantidades são aqueles que gastam mais."
   ]
  },
  {
   "cell_type": "markdown",
   "metadata": {},
   "source": [
    "## Apresentação"
   ]
  },
  {
   "cell_type": "markdown",
   "metadata": {},
   "source": [
    "Apresentação: <https://docs.google.com/presentation/d/12POC7kHZ0vZN8FWMtmNVwT0q34aDC7Nlpv4xhHSsjVo/edit?usp=sharing> "
   ]
  },
  {
   "cell_type": "markdown",
   "metadata": {},
   "source": [
    "## Conclusão"
   ]
  },
  {
   "cell_type": "markdown",
   "metadata": {},
   "source": [
    "Iniciei importando as bibliotecas pandas, matplotlib, seaborn, numpy, sklearn (StandardScaler, KMeans), scipy e math.\n",
    "\n",
    "**Em seguida, o pré processamento de dados, onde:**\n",
    "- Mudei o tipo da coluna `InvoiceDate` para o tipo datetime\n",
    "- Removi outliers\n",
    "- Adicionei a coluna `Month`\n",
    "\n",
    "**Na análise exploratória:**\n",
    "- Pudemos observar que não temos correlações fortes, apenas o total com a quantidade e o total com o preço são mais fortes, pois a coluna total se originou dessas 2 colunas; mas não significa que necessariamente as maiores compras são de grandes quantidades ou de produtos mais caros.\n",
    "\n",
    "**A partir da segmentação dos clientes, encontramos 3 grupos:**\n",
    "- Grupo 0: Este grupo possui uma quantidade de 5.958638 e um preço unitário de 3.648292. Os valores estão abaixo da média, então esse grupo representa clientes com compras de baixa quantidade e baixo valor unitário.\n",
    "\n",
    "- Grupo 1: Este grupo possui uma quantidade de 57 e um preço unitário de 1.549896. A quantidade é significativamente maior do que os outros grupos, sugerindo que este grupo representa clientes com compras de alta quantidade, mas de baixo valor unitário, provavelmente tendem a comprar maiores quantidade de produtos baratos.\n",
    "\n",
    "- Grupo 2: Este grupo possui uma quantidade de 1 e um preço unitário de 989. Este grupo representa clientes com compras de baixa quantidade e altíssimo valor unitário, talvez devido a um valor atípico, sugerindo que este grupo representa clientes com compras de baixa quantidade, mas de alto valor unitário, provavelmente tendem a comprar menores quantidades de produtos caros.\n",
    "\n",
    "O grupo com maior renda gerada é o 2.\n",
    "\n",
    "**Sobre a análise de RFM:**\n",
    "- Maior recência: grupo 1\n",
    "- Maior frequência: grupo 2\n",
    "- Maior renda: grupo 2\n",
    "\n",
    "O grupo 1 tem a maior recência , porém baixa frequência e valor monetário baixo. É possível que esse grupo seja de clientes que acabaram de fazer sua primeira compra na loja, então a equipe de marketing vão querer levá-lo em uma elaborada jornada de boas-vindas para garantir que ele aproveite ao máximo seu investimento, que tenha todas as suas perguntas respondidas e que ele aprende um pouco mais sobre a loja no processo.\n",
    "\n",
    "Para o grupo 2 obtemos um valor monetário maior e frequência também. Muitas vezes os clientes desse grupo gastavam dinheiro na loja e faziam compras, mas já fazia muito tempo que não faziam uma compra. Eles podem querer a partir de seu histórico de compras enviar a eles uma oferta relevante e valiosa para um engajamento repetido - como visto anteriormente, esses clientes compram em pequenas quantidades, mas comrpam rodutos caros.\n",
    "\n",
    "**Ao testar nossas hipóteses, entedemos que:**\n",
    "1. Hipótese: As vendas aumentam no final do ano (últimos 3 meses) por conta de feriados/férias\n",
    "    - As vendas aumentam significamente nos últimos 3 meses do ano.\n",
    "2. Hipótese: A maior parte dos clientes compram em pequenas quantidades.\n",
    "    - Como vemos no histograma, existem mais clientes que compram em pequenas quantidades do que clientes que compram em grandes quantidades.\n",
    "3.  Hipótese: Os clientes que mais gastam são aqueles que compram em maiores quantidades\n",
    "    - A correlação entre Valor Total e Quantidade é de 0.48, indicando uma correlação média - não necessariamente os clientes que compram em maiores quantidades são aqueles que gastam mais.\n",
    "\n",
    "**Conclusão geral**\n",
    "- A equipe de marketing pode tentar encontrar uma oportunidade em direcionar mais o marketing a compradores de poucos itens com o valor mais elevado, ao invés de compra em atacado, por exemplo.\n",
    "    - Incentivar a compra de itens mais caros, pois traz mais lucro para empresa em comparação com vários itens baratos.\n",
    "- O marketing pode promover certos tipos de itens em determinadas épocas do ano, principalmente itens de eventos de final de ano, como natal, ano novo, etc. Também podem investir na BlackFriday (novembro), pois é um mês que mais vende no ano.\n",
    "- Aumentar o número de itens com temas dos eventos de final de ano."
   ]
  }
 ],
 "metadata": {
  "kernelspec": {
   "display_name": "Python 3 (ipykernel)",
   "language": "python",
   "name": "python3"
  },
  "language_info": {
   "codemirror_mode": {
    "name": "ipython",
    "version": 3
   },
   "file_extension": ".py",
   "mimetype": "text/x-python",
   "name": "python",
   "nbconvert_exporter": "python",
   "pygments_lexer": "ipython3",
   "version": "3.9.5"
  },
  "toc": {
   "base_numbering": 1,
   "nav_menu": {},
   "number_sections": true,
   "sideBar": true,
   "skip_h1_title": true,
   "title_cell": "Table of Contents",
   "title_sidebar": "Contents",
   "toc_cell": false,
   "toc_position": {},
   "toc_section_display": true,
   "toc_window_display": false
  }
 },
 "nbformat": 4,
 "nbformat_minor": 2
}
